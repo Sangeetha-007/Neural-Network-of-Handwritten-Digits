{
  "cells": [
    {
      "cell_type": "code",
      "execution_count": null,
      "metadata": {
        "colab": {
          "base_uri": "https://localhost:8080/"
        },
        "id": "VxG4qL_b7ZxJ",
        "outputId": "3de47805-9869-40a7-90fd-462ca17844bb"
      },
      "outputs": [
        {
          "name": "stdout",
          "output_type": "stream",
          "text": [
            "Looking in indexes: https://pypi.org/simple, https://us-python.pkg.dev/colab-wheels/public/simple/\n",
            "Requirement already satisfied: pillow in /usr/local/lib/python3.8/dist-packages (7.1.2)\n"
          ]
        }
      ],
      "source": [
        "import numpy as np\n",
        "import tensorflow as tf\n",
        "import keras\n",
        "import random\n",
        "!pip install pillow"
      ]
    },
    {
      "cell_type": "code",
      "execution_count": null,
      "metadata": {
        "colab": {
          "base_uri": "https://localhost:8080/"
        },
        "id": "uqFaP78s8xT9",
        "outputId": "d6e86b5f-95fa-460e-940a-613c03d072e7"
      },
      "outputs": [
        {
          "name": "stdout",
          "output_type": "stream",
          "text": [
            "(60000, 28, 28) (60000,)\n"
          ]
        }
      ],
      "source": [
        "import keras\n",
        "from keras.datasets import mnist\n",
        "from keras.models import Sequential\n",
        "from keras.layers import Dense, Flatten\n",
        "from keras.layers import Dropout\n",
        "from keras.layers import Flatten\n",
        "from keras.layers import Conv2D\n",
        "from keras.layers import MaxPooling2D\n",
        "from keras import backend as K\n",
        "import keras.utils\n",
        "from keras import utils as np_utils\n",
        "from keras.optimizers import SGD\n",
        "from keras.utils import to_categorical\n",
        "#  to split the data of training and testing sets\n",
        "(x_train, y_train), (x_test, y_test) = mnist.load_data()\n",
        "print(x_train.shape, y_train.shape)"
      ]
    },
    {
      "cell_type": "code",
      "execution_count": null,
      "metadata": {
        "colab": {
          "base_uri": "https://localhost:8080/"
        },
        "id": "lgG45kf8-RKP",
        "outputId": "1bdcf17b-8656-43b0-fc1c-b772af9cd8cc"
      },
      "outputs": [
        {
          "name": "stdout",
          "output_type": "stream",
          "text": [
            "[0. 1.]\n",
            "[1. 0.]\n",
            "x_train shape: (60000, 28, 28, 1)\n",
            "60000 train samples\n",
            "10000 test samples\n"
          ]
        }
      ],
      "source": [
        "x_train = x_train.reshape(x_train.shape[0], 28, 28, 1)\n",
        "x_test = x_test.reshape(x_test.shape[0], 28, 28, 1)\n",
        "input_shape = (28, 28, 1)\n",
        "\n",
        "# conversion of class vectors to matrices of  binary class \n",
        "\n",
        "y_train = keras.utils.to_categorical(y_train, num_classes=None, dtype='float32')\n",
        "y_test = keras.utils.to_categorical(y_test, num_classes=None, dtype='float32')\n",
        "x_train = x_train.astype('float32')\n",
        "x_test = x_test.astype('float32')\n",
        "x_train /= 255\n",
        "x_test /= 255\n",
        "\n",
        "print(to_categorical(1, 2))\n",
        "print(to_categorical(0, 2))\n",
        "\n",
        "print('x_train shape:', x_train.shape)\n",
        "print(x_train.shape[0], 'train samples')\n",
        "print(x_test.shape[0], 'test samples')\n"
      ]
    },
    {
      "cell_type": "code",
      "execution_count": null,
      "metadata": {
        "id": "EfKihPAI3Z4h"
      },
      "outputs": [],
      "source": [
        "random.seed(1234)\n",
        "batch_size = 128\n",
        "num_classes = 10\n",
        "epochs = 40\n",
        "model = Sequential()\n",
        "model.add(Conv2D(32, kernel_size=(3, 3),activation='relu',input_shape=input_shape))\n",
        "model.add(Conv2D(64, (3, 3), activation='relu'))\n",
        "model.add(MaxPooling2D(pool_size=(2, 2)))\n",
        "model.add(Dropout(0.25))\n",
        "model.add(Flatten())\n",
        "model.add(Dense(256, activation='relu'))\n",
        "model.add(Dropout(0.5))\n",
        "model.add(Dense(num_classes, activation='softmax'))\n",
        "model.compile(loss=keras.losses.categorical_crossentropy,optimizer=keras.optimizers.Adadelta(),metrics=['accuracy'])"
      ]
    },
    {
      "cell_type": "code",
      "execution_count": null,
      "metadata": {
        "colab": {
          "base_uri": "https://localhost:8080/"
        },
        "id": "3px4_7RO3mgb",
        "outputId": "4f014199-f1b0-4946-8b5d-2eba0ba1e1e5"
      },
      "outputs": [
        {
          "name": "stdout",
          "output_type": "stream",
          "text": [
            "Epoch 1/40\n",
            "469/469 [==============================] - 110s 234ms/step - loss: 2.2791 - accuracy: 0.1720 - val_loss: 2.2441 - val_accuracy: 0.4707\n",
            "Epoch 2/40\n",
            "469/469 [==============================] - 108s 231ms/step - loss: 2.2199 - accuracy: 0.3271 - val_loss: 2.1707 - val_accuracy: 0.6304\n",
            "Epoch 3/40\n",
            "469/469 [==============================] - 108s 230ms/step - loss: 2.1392 - accuracy: 0.4483 - val_loss: 2.0644 - val_accuracy: 0.6948\n",
            "Epoch 4/40\n",
            "469/469 [==============================] - 108s 231ms/step - loss: 2.0237 - accuracy: 0.5224 - val_loss: 1.9092 - val_accuracy: 0.7261\n",
            "Epoch 5/40\n",
            "469/469 [==============================] - 109s 232ms/step - loss: 1.8577 - accuracy: 0.5758 - val_loss: 1.6965 - val_accuracy: 0.7525\n",
            "Epoch 6/40\n",
            "469/469 [==============================] - 108s 230ms/step - loss: 1.6480 - accuracy: 0.6179 - val_loss: 1.4428 - val_accuracy: 0.7784\n",
            "Epoch 7/40\n",
            "469/469 [==============================] - 109s 232ms/step - loss: 1.4207 - accuracy: 0.6572 - val_loss: 1.1937 - val_accuracy: 0.7943\n",
            "Epoch 8/40\n",
            "469/469 [==============================] - 109s 232ms/step - loss: 1.2217 - accuracy: 0.6846 - val_loss: 0.9898 - val_accuracy: 0.8138\n",
            "Epoch 9/40\n",
            "469/469 [==============================] - 108s 231ms/step - loss: 1.0672 - accuracy: 0.7085 - val_loss: 0.8401 - val_accuracy: 0.8284\n",
            "Epoch 10/40\n",
            "469/469 [==============================] - 109s 232ms/step - loss: 0.9562 - accuracy: 0.7284 - val_loss: 0.7338 - val_accuracy: 0.8383\n",
            "Epoch 11/40\n",
            "469/469 [==============================] - 109s 232ms/step - loss: 0.8701 - accuracy: 0.7439 - val_loss: 0.6571 - val_accuracy: 0.8458\n",
            "Epoch 12/40\n",
            "469/469 [==============================] - 108s 231ms/step - loss: 0.8053 - accuracy: 0.7602 - val_loss: 0.5998 - val_accuracy: 0.8538\n",
            "Epoch 13/40\n",
            "469/469 [==============================] - 109s 233ms/step - loss: 0.7573 - accuracy: 0.7725 - val_loss: 0.5564 - val_accuracy: 0.8604\n",
            "Epoch 14/40\n",
            "469/469 [==============================] - 109s 232ms/step - loss: 0.7181 - accuracy: 0.7819 - val_loss: 0.5226 - val_accuracy: 0.8668\n",
            "Epoch 15/40\n",
            "469/469 [==============================] - 108s 230ms/step - loss: 0.6820 - accuracy: 0.7939 - val_loss: 0.4946 - val_accuracy: 0.8723\n",
            "Epoch 16/40\n",
            "469/469 [==============================] - 109s 232ms/step - loss: 0.6532 - accuracy: 0.8004 - val_loss: 0.4713 - val_accuracy: 0.8763\n",
            "Epoch 17/40\n",
            "469/469 [==============================] - 109s 232ms/step - loss: 0.6307 - accuracy: 0.8085 - val_loss: 0.4521 - val_accuracy: 0.8799\n",
            "Epoch 18/40\n",
            "469/469 [==============================] - 108s 230ms/step - loss: 0.6088 - accuracy: 0.8128 - val_loss: 0.4352 - val_accuracy: 0.8823\n",
            "Epoch 19/40\n",
            "469/469 [==============================] - 108s 231ms/step - loss: 0.5905 - accuracy: 0.8192 - val_loss: 0.4215 - val_accuracy: 0.8844\n",
            "Epoch 20/40\n",
            "469/469 [==============================] - 108s 231ms/step - loss: 0.5742 - accuracy: 0.8231 - val_loss: 0.4092 - val_accuracy: 0.8858\n",
            "Epoch 21/40\n",
            "469/469 [==============================] - 108s 230ms/step - loss: 0.5620 - accuracy: 0.8262 - val_loss: 0.3985 - val_accuracy: 0.8879\n",
            "Epoch 22/40\n",
            "469/469 [==============================] - 108s 231ms/step - loss: 0.5469 - accuracy: 0.8312 - val_loss: 0.3883 - val_accuracy: 0.8925\n",
            "Epoch 23/40\n",
            "469/469 [==============================] - 107s 228ms/step - loss: 0.5342 - accuracy: 0.8352 - val_loss: 0.3794 - val_accuracy: 0.8945\n",
            "Epoch 24/40\n",
            "469/469 [==============================] - 108s 230ms/step - loss: 0.5235 - accuracy: 0.8413 - val_loss: 0.3713 - val_accuracy: 0.8975\n",
            "Epoch 25/40\n",
            "469/469 [==============================] - 108s 230ms/step - loss: 0.5141 - accuracy: 0.8440 - val_loss: 0.3640 - val_accuracy: 0.8991\n",
            "Epoch 26/40\n",
            "469/469 [==============================] - 108s 229ms/step - loss: 0.5034 - accuracy: 0.8454 - val_loss: 0.3569 - val_accuracy: 0.9006\n",
            "Epoch 27/40\n",
            "469/469 [==============================] - 108s 231ms/step - loss: 0.4976 - accuracy: 0.8471 - val_loss: 0.3509 - val_accuracy: 0.9013\n",
            "Epoch 28/40\n",
            "469/469 [==============================] - 108s 231ms/step - loss: 0.4887 - accuracy: 0.8507 - val_loss: 0.3445 - val_accuracy: 0.9028\n",
            "Epoch 29/40\n",
            "469/469 [==============================] - 108s 230ms/step - loss: 0.4820 - accuracy: 0.8529 - val_loss: 0.3394 - val_accuracy: 0.9040\n",
            "Epoch 30/40\n",
            "469/469 [==============================] - 109s 232ms/step - loss: 0.4709 - accuracy: 0.8568 - val_loss: 0.3339 - val_accuracy: 0.9059\n",
            "Epoch 31/40\n",
            "469/469 [==============================] - 108s 231ms/step - loss: 0.4635 - accuracy: 0.8578 - val_loss: 0.3284 - val_accuracy: 0.9070\n",
            "Epoch 32/40\n",
            "469/469 [==============================] - 108s 230ms/step - loss: 0.4550 - accuracy: 0.8616 - val_loss: 0.3238 - val_accuracy: 0.9070\n",
            "Epoch 33/40\n",
            "469/469 [==============================] - 109s 231ms/step - loss: 0.4522 - accuracy: 0.8616 - val_loss: 0.3190 - val_accuracy: 0.9087\n",
            "Epoch 34/40\n",
            "469/469 [==============================] - 108s 230ms/step - loss: 0.4473 - accuracy: 0.8643 - val_loss: 0.3151 - val_accuracy: 0.9101\n",
            "Epoch 35/40\n",
            "469/469 [==============================] - 108s 231ms/step - loss: 0.4423 - accuracy: 0.8645 - val_loss: 0.3107 - val_accuracy: 0.9112\n",
            "Epoch 36/40\n",
            "469/469 [==============================] - 108s 231ms/step - loss: 0.4393 - accuracy: 0.8651 - val_loss: 0.3070 - val_accuracy: 0.9119\n",
            "Epoch 37/40\n",
            "469/469 [==============================] - 108s 229ms/step - loss: 0.4291 - accuracy: 0.8691 - val_loss: 0.3028 - val_accuracy: 0.9132\n",
            "Epoch 38/40\n",
            "469/469 [==============================] - 108s 231ms/step - loss: 0.4269 - accuracy: 0.8698 - val_loss: 0.2994 - val_accuracy: 0.9137\n",
            "Epoch 39/40\n",
            "469/469 [==============================] - 108s 231ms/step - loss: 0.4211 - accuracy: 0.8711 - val_loss: 0.2958 - val_accuracy: 0.9142\n",
            "Epoch 40/40\n",
            "469/469 [==============================] - 107s 228ms/step - loss: 0.4165 - accuracy: 0.8737 - val_loss: 0.2923 - val_accuracy: 0.9152\n",
            "The model has successfully trained\n",
            "Saving the bot as mnist.h5\n"
          ]
        }
      ],
      "source": [
        "hist = model.fit(x_train, y_train,batch_size=batch_size,epochs=epochs,verbose=1,validation_data=(x_test, y_test))\n",
        "print(\"The model has successfully trained\")\n",
        "model.save('mnist.h5')\n",
        "print(\"Saving the bot as mnist.h5\")"
      ]
    },
    {
      "cell_type": "code",
      "execution_count": null,
      "metadata": {
        "colab": {
          "base_uri": "https://localhost:8080/"
        },
        "id": "GFRI2dcUomZF",
        "outputId": "ea7b7781-dabe-4007-9443-9db06df432d7"
      },
      "outputs": [
        {
          "name": "stdout",
          "output_type": "stream",
          "text": [
            "Test loss: 0.2923228442668915\n",
            "Test accuracy: 0.9151999950408936\n"
          ]
        }
      ],
      "source": [
        "# Epochs of 10 gave 0.837 accuracy, so we doubled it\n",
        "# Epochs of 20 gave 0.8950 accuracy, so we doubled it again\n",
        "score = model.evaluate(x_test, y_test, verbose=0)\n",
        "print('Test loss:', score[0])\n",
        "print('Test accuracy:', score[1])"
      ]
    },
    {
      "cell_type": "code",
      "execution_count": null,
      "metadata": {
        "id": "bCYevrEEaG6S"
      },
      "outputs": [],
      "source": []
    }
  ],
  "metadata": {
    "colab": {
      "provenance": []
    },
    "kernelspec": {
      "display_name": "Python 3.10.8 64-bit (microsoft store)",
      "language": "python",
      "name": "python3"
    },
    "language_info": {
      "name": "python",
      "version": "3.10.8"
    },
    "vscode": {
      "interpreter": {
        "hash": "ad6af0ce9ab7d06514138c89cccc91844562e8aea9bca3b6b339494b9fc875c0"
      }
    }
  },
  "nbformat": 4,
  "nbformat_minor": 0
}
